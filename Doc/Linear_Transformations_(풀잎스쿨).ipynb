{
  "nbformat": 4,
  "nbformat_minor": 5,
  "metadata": {
    "kernelspec": {
      "display_name": "Python 3 (ipykernel)",
      "language": "python",
      "name": "python3"
    },
    "language_info": {
      "codemirror_mode": {
        "name": "ipython",
        "version": 3
      },
      "file_extension": ".py",
      "mimetype": "text/x-python",
      "name": "python",
      "nbconvert_exporter": "python",
      "pygments_lexer": "ipython3",
      "version": "3.7.11"
    },
    "colab": {
      "name": "Linear Transformations (풀잎스쿨).ipynb",
      "provenance": [],
      "include_colab_link": true
    }
  },
  "cells": [
    {
      "cell_type": "markdown",
      "metadata": {
        "id": "view-in-github",
        "colab_type": "text"
      },
      "source": [
        "<a href=\"https://colab.research.google.com/github/Raziel-JKM/Effective-Python/blob/main/Doc/Linear_Transformations_(%ED%92%80%EC%9E%8E%EC%8A%A4%EC%BF%A8).ipynb\" target=\"_parent\"><img src=\"https://colab.research.google.com/assets/colab-badge.svg\" alt=\"Open In Colab\"/></a>"
      ]
    },
    {
      "cell_type": "code",
      "metadata": {
        "id": "28368c2e"
      },
      "source": [
        "from Vector import Vector"
      ],
      "id": "28368c2e",
      "execution_count": null,
      "outputs": []
    },
    {
      "cell_type": "code",
      "metadata": {
        "id": "07fe2f6c"
      },
      "source": [
        "class Vector:\n",
        "    # 생성자의 입력값은 벡터 리스트\n",
        "    def __init__(self, vec_list, dtype):\n",
        "        self.dtype = dtype\n",
        "        self.vector = []\n",
        "        for i, item in enumerate(vec_list):\n",
        "            if type(item) != dtype:\n",
        "                print(f\"The item {i} isn't same data type...\")\n",
        "                raise ValueError\n",
        "      \n",
        "            else:\n",
        "                self.vector.append(item)\n",
        "                \n",
        "    def dtype(self):\n",
        "        return self.dtype\n",
        "    \n",
        "    def push(self, item):\n",
        "        if self.dtype != type(item):\n",
        "            print(f\"Input item isn't same data type...\")\n",
        "        else:\n",
        "            self.vector.append(item)\n",
        "    \n",
        "    def pop(self):\n",
        "        return self.vector.pop(-1)\n",
        "    \n",
        "    def check_dimension(self, other):\n",
        "        if len(self.vector) != len(other.vector):\n",
        "            print(f\"The dimension of two vectors are not same\")\n",
        "            return False\n",
        "        else:\n",
        "            return True\n",
        "    \n",
        "    # 연산자 오버로딩\n",
        "    def __add__(self, other):\n",
        "        new_vector = []\n",
        "        if self.check_dimension(other):\n",
        "            for elem1, elem2 in zip(self.vector, other.vector):\n",
        "                new_elem = elem1 + elem2\n",
        "                new_vector.append(new_elem)\n",
        "        else:\n",
        "            raise ValueError\n",
        "        new_vec = Vector(new_vector, self.dtype)\n",
        "        return new_vec\n",
        "    \n",
        "    def __sub__(self, other):\n",
        "        new_vector = []\n",
        "        if self.check_dimension(other):\n",
        "            for elem1, elem2 in zip(self.vector, other.vector):\n",
        "                new_elem = elem1 - elem2\n",
        "                new_vector.append(new_elem)\n",
        "        else:\n",
        "            raise ValueError\n",
        "        new_vec = Vector(new_vector, self.dtype)\n",
        "        return new_vec\n",
        "    \n",
        "    def __mul__(self, other):\n",
        "        dot_product = 0\n",
        "        if self.check_dimension(other):\n",
        "            for elem1, elem2 in zip(self.vector, other.vector):\n",
        "                dot_product += elem1 * elem2\n",
        "            return dot_product\n",
        "        else:\n",
        "            raise ValueError\n",
        "            \n",
        "    def __call__(self):\n",
        "        return self.vector\n",
        "    \n",
        "    def __str__(self):\n",
        "        msg = f\"{self.vector}\"\n",
        "        return msg\n",
        "\n"
      ],
      "id": "07fe2f6c",
      "execution_count": null,
      "outputs": []
    },
    {
      "cell_type": "code",
      "metadata": {
        "id": "b3645aa0"
      },
      "source": [
        "# 선형변환 : 입력 벡터를 행렬과의 연산을 통해 벡터를 출력하는 함수\n",
        "# 벡터 공간의 성질이 보존이 된다. \n",
        "\n",
        "import math\n",
        "Pi = math.pi"
      ],
      "id": "b3645aa0",
      "execution_count": null,
      "outputs": []
    },
    {
      "cell_type": "code",
      "metadata": {
        "id": "cd1db6b6"
      },
      "source": [
        "# 틀의 역할을 하는 클래스를 생성\n",
        "class Transform2D:\n",
        "    \n",
        "    # 코드 리팩터링 : 불필요한 반복을 줄이기 위해 함수를 하나 더 만든다\n",
        "    def dot_matvec(self, matrix, vector):\n",
        "        output = Vector([], vector.dtype)\n",
        "        for i, row in enumerate(matrix):\n",
        "            rowcol_sum = 0\n",
        "            for j, col in enumerate(row):\n",
        "                rowcol_sum += matrix[i][j] * vector()[j]\n",
        "            output.push(rowcol_sum)\n",
        "        return output\n",
        "            \n",
        "    def rotation(self, angle, vector):\n",
        "        # Hint 1 : math.cos(), math.sin() 활용\n",
        "        # Hint 2 : 반복문을 활용해서 행렬과 벡터를 계산\n",
        "        # Hint 3 : 행렬과 벡터의 원소들에 인덱스를 통해 접근\n",
        "        rot_matrix = [[math.cos(angle), -math.sin(angle)], \n",
        "                     [math.sin(angle), math.cos(angle)]]\n",
        "        \n",
        "        output = self.dot_matvec(rot_matrix, vector)\n",
        "        return output\n",
        "    \n",
        "    def scaling(self, scale, vector):\n",
        "        scale_matrix = [[scale, 0],\n",
        "                        [0, scale]]\n",
        "        output = self.dot_matvec(scale_matrix, vector)\n",
        "        return output\n",
        "        \n",
        "    def arbitrary(self, matrix, vector):\n",
        "        arb_matrix = matrix\n",
        "        output = self.dot_matvec(arb_matrix, vector)\n",
        "        return output\n",
        "    \n",
        "vec = Vector([1.0, 0.0], float)\n",
        "transform = Transform2D()\n",
        "rotated_vec1 = transform.rotation(Pi/4, vec) # (0.7..., 0.7..)\n",
        "rotated_vec2 = transform.rotation(Pi/2, vec) # (0, 1)\n",
        "rotated_vec3 = transform.rotation(Pi, vec) # (-1. 0)\n",
        "\n",
        "\n",
        "    "
      ],
      "id": "cd1db6b6",
      "execution_count": null,
      "outputs": []
    },
    {
      "cell_type": "code",
      "metadata": {
        "id": "259efc21",
        "outputId": "f8bad0e4-c636-422b-ab34-b1831d9ff50a"
      },
      "source": [
        "print(rotated_vec1)\n",
        "print(rotated_vec2)\n",
        "print(rotated_vec3)"
      ],
      "id": "259efc21",
      "execution_count": null,
      "outputs": [
        {
          "name": "stdout",
          "output_type": "stream",
          "text": [
            "[0.7071067811865476, 0.7071067811865476]\n",
            "[6.123233995736766e-17, 1.0]\n",
            "[-1.0, 1.2246467991473532e-16]\n"
          ]
        }
      ]
    },
    {
      "cell_type": "code",
      "metadata": {
        "id": "e6b6186a",
        "outputId": "597325c1-ac92-4f3f-8971-ea7899c27cf7"
      },
      "source": [
        "rot_vec = transform.rotation(Pi/2, vec)\n",
        "scale_vec = transform.scaling(2, vec)\n",
        "\n",
        "arb_mat = [[2,0], [0, 2]]\n",
        "arb_vec = transform.arbitrary(arb_mat, vec)\n",
        "print(rot_vec)\n",
        "print(scale_vec)\n",
        "print(arb_vec)"
      ],
      "id": "e6b6186a",
      "execution_count": null,
      "outputs": [
        {
          "name": "stdout",
          "output_type": "stream",
          "text": [
            "[6.123233995736766e-17, 1.0]\n",
            "[2.0, 0.0]\n",
            "[2.0, 0.0]\n"
          ]
        }
      ]
    },
    {
      "cell_type": "code",
      "metadata": {
        "id": "72a896e0"
      },
      "source": [
        ""
      ],
      "id": "72a896e0",
      "execution_count": null,
      "outputs": []
    }
  ]
}