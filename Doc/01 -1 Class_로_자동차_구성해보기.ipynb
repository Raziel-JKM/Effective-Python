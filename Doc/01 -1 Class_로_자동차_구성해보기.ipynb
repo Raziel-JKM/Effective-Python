{
  "nbformat": 4,
  "nbformat_minor": 0,
  "metadata": {
    "colab": {
      "name": "Class 로 자동차 구성해보기.ipynb",
      "provenance": [],
      "authorship_tag": "ABX9TyOGHj+M2Clu2qTuDsIBQT99",
      "include_colab_link": true
    },
    "kernelspec": {
      "name": "python3",
      "display_name": "Python 3"
    },
    "language_info": {
      "name": "python"
    }
  },
  "cells": [
    {
      "cell_type": "markdown",
      "metadata": {
        "id": "view-in-github",
        "colab_type": "text"
      },
      "source": [
        "<a href=\"https://colab.research.google.com/github/Raziel-JKM/Effective-Python/blob/main/01%20-1%20Class_%EB%A1%9C_%EC%9E%90%EB%8F%99%EC%B0%A8_%EA%B5%AC%EC%84%B1%ED%95%B4%EB%B3%B4%EA%B8%B0.ipynb\" target=\"_parent\"><img src=\"https://colab.research.google.com/assets/colab-badge.svg\" alt=\"Open In Colab\"/></a>"
      ]
    },
    {
      "cell_type": "markdown",
      "metadata": {
        "id": "U0k-OF1D9OU_"
      },
      "source": [
        "#[자동차 클래스 구성](https://youtu.be/ZXqzzK4C8Vg)\n",
        "+ 타이어 클래스 + 옵션 클래스 + 엔진 클래스 + 자신 각각의 클래스를 구성하여 조립하기\n",
        "+ ex) 타이어, 엔진 옵션(에어백, 에어컨)"
      ]
    },
    {
      "cell_type": "code",
      "metadata": {
        "id": "llNwe1wK9iYy"
      },
      "source": [
        "class Engine:\n",
        "    def __init__(self, e_type):\n",
        "        self.e_type = e_type\n",
        "        print(\"{}엔진 탑재\".format(self.e_type))\n",
        "        "
      ],
      "execution_count": null,
      "outputs": []
    },
    {
      "cell_type": "code",
      "metadata": {
        "colab": {
          "base_uri": "https://localhost:8080/",
          "height": 86
        },
        "id": "g0bX7dDg95jw",
        "outputId": "f4da2c7b-9049-4876-dbf8-289d3a06bcc7"
      },
      "source": [
        "auto = Engine('자동')\n",
        "print(auto.e_type)\n",
        "auto.e_type = '수동' # <- 외부에서 인스턴스 직접 접근이 가능, 이런 방법 위험(->private처리)\n",
        "print(auto.e_type)\n",
        "\n",
        "'''self.변수명 = 인스턴스 변수\n",
        "-> 지역(메소드)을 벗어나도 변수가 유지됨\n",
        "변수명 = 로컬 변수(매개 변수 포함)'''"
      ],
      "execution_count": null,
      "outputs": [
        {
          "output_type": "stream",
          "name": "stdout",
          "text": [
            "자동엔진 탑재\n",
            "자동\n",
            "수동\n"
          ]
        },
        {
          "output_type": "execute_result",
          "data": {
            "application/vnd.google.colaboratory.intrinsic+json": {
              "type": "string"
            },
            "text/plain": [
              "'self.변수명 = 인스턴스 변수\\n-> 지역(메소드)을 벗어나도 변수가 유지됨\\n변수명 = 로컬 변수(매개 변수 포함)'"
            ]
          },
          "metadata": {},
          "execution_count": 2
        }
      ]
    },
    {
      "cell_type": "code",
      "metadata": {
        "id": "enz7mG2m_QY7",
        "colab": {
          "base_uri": "https://localhost:8080/",
          "height": 351
        },
        "outputId": "bd56f60a-2ab2-4d20-92a7-28a54eee511e"
      },
      "source": [
        "'''private : 객체 내부 요소의 외부 접근 차단'''\n",
        "class Engine: #Camelcase로 이름을 지정/\n",
        "    def __init__(self, e_type):\n",
        "        self.__e_type = e_type #변수 앞에 __(변수)처리 해줌\n",
        "        print(\"{}엔진 탑재\".format(self.e_type))\n",
        "\n",
        "auto = Engine('자동')\n",
        "'''\n",
        "print(auto.e_type)\n",
        "auto.e_type = '수동' # 프라이빗 처리하면 이부분은 에러가난다\n",
        "print(auto.e_type)\n",
        "'''"
      ],
      "execution_count": null,
      "outputs": [
        {
          "output_type": "error",
          "ename": "AttributeError",
          "evalue": "ignored",
          "traceback": [
            "\u001b[0;31m---------------------------------------------------------------------------\u001b[0m",
            "\u001b[0;31mAttributeError\u001b[0m                            Traceback (most recent call last)",
            "\u001b[0;32m<ipython-input-3-9dbacc4d55d4>\u001b[0m in \u001b[0;36m<module>\u001b[0;34m()\u001b[0m\n\u001b[1;32m      5\u001b[0m         \u001b[0mprint\u001b[0m\u001b[0;34m(\u001b[0m\u001b[0;34m\"{}엔진 탑재\"\u001b[0m\u001b[0;34m.\u001b[0m\u001b[0mformat\u001b[0m\u001b[0;34m(\u001b[0m\u001b[0mself\u001b[0m\u001b[0;34m.\u001b[0m\u001b[0me_type\u001b[0m\u001b[0;34m)\u001b[0m\u001b[0;34m)\u001b[0m\u001b[0;34m\u001b[0m\u001b[0;34m\u001b[0m\u001b[0m\n\u001b[1;32m      6\u001b[0m \u001b[0;34m\u001b[0m\u001b[0m\n\u001b[0;32m----> 7\u001b[0;31m \u001b[0mauto\u001b[0m \u001b[0;34m=\u001b[0m \u001b[0mEngine\u001b[0m\u001b[0;34m(\u001b[0m\u001b[0;34m'자동'\u001b[0m\u001b[0;34m)\u001b[0m\u001b[0;34m\u001b[0m\u001b[0;34m\u001b[0m\u001b[0m\n\u001b[0m\u001b[1;32m      8\u001b[0m '''\n\u001b[1;32m      9\u001b[0m \u001b[0mprint\u001b[0m\u001b[0;34m(\u001b[0m\u001b[0mauto\u001b[0m\u001b[0;34m.\u001b[0m\u001b[0me_type\u001b[0m\u001b[0;34m)\u001b[0m\u001b[0;34m\u001b[0m\u001b[0;34m\u001b[0m\u001b[0m\n",
            "\u001b[0;32m<ipython-input-3-9dbacc4d55d4>\u001b[0m in \u001b[0;36m__init__\u001b[0;34m(self, e_type)\u001b[0m\n\u001b[1;32m      3\u001b[0m     \u001b[0;32mdef\u001b[0m \u001b[0m__init__\u001b[0m\u001b[0;34m(\u001b[0m\u001b[0mself\u001b[0m\u001b[0;34m,\u001b[0m \u001b[0me_type\u001b[0m\u001b[0;34m)\u001b[0m\u001b[0;34m:\u001b[0m\u001b[0;34m\u001b[0m\u001b[0;34m\u001b[0m\u001b[0m\n\u001b[1;32m      4\u001b[0m         \u001b[0mself\u001b[0m\u001b[0;34m.\u001b[0m\u001b[0m__e_type\u001b[0m \u001b[0;34m=\u001b[0m \u001b[0me_type\u001b[0m \u001b[0;31m#변수 앞에 __(변수)처리 해줌\u001b[0m\u001b[0;34m\u001b[0m\u001b[0;34m\u001b[0m\u001b[0m\n\u001b[0;32m----> 5\u001b[0;31m         \u001b[0mprint\u001b[0m\u001b[0;34m(\u001b[0m\u001b[0;34m\"{}엔진 탑재\"\u001b[0m\u001b[0;34m.\u001b[0m\u001b[0mformat\u001b[0m\u001b[0;34m(\u001b[0m\u001b[0mself\u001b[0m\u001b[0;34m.\u001b[0m\u001b[0me_type\u001b[0m\u001b[0;34m)\u001b[0m\u001b[0;34m)\u001b[0m\u001b[0;34m\u001b[0m\u001b[0;34m\u001b[0m\u001b[0m\n\u001b[0m\u001b[1;32m      6\u001b[0m \u001b[0;34m\u001b[0m\u001b[0m\n\u001b[1;32m      7\u001b[0m \u001b[0mauto\u001b[0m \u001b[0;34m=\u001b[0m \u001b[0mEngine\u001b[0m\u001b[0;34m(\u001b[0m\u001b[0;34m'자동'\u001b[0m\u001b[0;34m)\u001b[0m\u001b[0;34m\u001b[0m\u001b[0;34m\u001b[0m\u001b[0m\n",
            "\u001b[0;31mAttributeError\u001b[0m: 'Engine' object has no attribute 'e_type'"
          ]
        }
      ]
    },
    {
      "cell_type": "markdown",
      "metadata": {
        "id": "ee6hBzVKkd8h"
      },
      "source": [
        "프라이빗 처리했음으로 위와 같은 접근은 에러가 발생한다."
      ]
    },
    {
      "cell_type": "code",
      "metadata": {
        "id": "qPQnMw2Y_vjj"
      },
      "source": [
        "class Engine:\n",
        "    def __init__(self, e_type):\n",
        "        self.__e_type = __e_type #프라이빗 처리\n",
        "        print(\"{}엔진 탑재\".format(self.__e_type))\n",
        "#값을 가지고 올 때,\n",
        "    def get_type(self):\n",
        "        return self.__e_type\n",
        "#값을 지정 할 떄,\n",
        "    def set_type(self):\n",
        "        if e_type in ['수동', '자동', 'auto', 'manual']: #if문으로 추가적인 함수처리가능\n",
        "            self.__e_type = e_type\n",
        "        else:\n",
        "            print(\"지정할 수 없는 타입입니다.\")"
      ],
      "execution_count": null,
      "outputs": []
    },
    {
      "cell_type": "code",
      "metadata": {
        "id": "jxt8MJPOAyFc"
      },
      "source": [
        "'''get / set으로 값을 넣고/빼고 할 수 있다.(=encapsulation)\n",
        "직접적인 외부로 부터의 접근이 차단이 된다.'''\n",
        "\n",
        "auto = Engine('자동')\n",
        "print(auto.get_type())\n",
        "auto.set_type('수동')\n",
        "auto.set_type('엄복동')\n",
        "print(auto.get_type())\n",
        "\n",
        "'''불편한부분 직접할당 보다 불편하다\n",
        "엄격하게 데이터를 받아들이고 좀 편하게 하기 위해\n",
        "property(프로퍼티) : 캡슐화의 장점을 유지 데이터 사용절차를 캡슐화 이전 수준으로 간소화 하는 기술 '''"
      ],
      "execution_count": null,
      "outputs": []
    },
    {
      "cell_type": "markdown",
      "metadata": {
        "id": "igfkoPGuECTr"
      },
      "source": [
        "#property\n",
        "\n",
        "\n",
        "```\n",
        "property(프로퍼티) : 캡슐화의 장점을 유지 데이터 사용절차를 캡슐화 이전 수준으로 간소화 하는 기술 \n",
        "```\n",
        "\n"
      ]
    },
    {
      "cell_type": "code",
      "metadata": {
        "id": "ZVBWBs4MEBmv"
      },
      "source": [
        "class Engine:\n",
        "    def __init__(self, e_type):\n",
        "        self,__e_type = __e_type #프라이빗 처리\n",
        "        print(\"{}엔진 탑재\".format(self.__e_type))\n",
        "\n",
        "    @property\n",
        "    def e_type(self): #변수(e_type)로 설정해주는것 처럼,  실제로는 메소드\n",
        "        return self.__e_type\n",
        "\n",
        "    @e_type.setter #지정시,\n",
        "    def e_type(self): #두 메소드명이 동일한 것이 포인트!\n",
        "        if e_type in ['수동', '자동', 'auto', 'manual']: #if문으로 추가적인 함수가능\n",
        "            self.__e_type = __e_type\n",
        "        else:\n",
        "            print(\"지정할 수 없는 타입입니다.\")"
      ],
      "execution_count": null,
      "outputs": []
    },
    {
      "cell_type": "code",
      "metadata": {
        "id": "HvzkMfEpErsM",
        "colab": {
          "base_uri": "https://localhost:8080/",
          "height": 351
        },
        "outputId": "705df002-7079-409f-c176-3f0d63cd8969"
      },
      "source": [
        "auto = Engine('자동')\n",
        "print(auto.e_type)\n",
        "auto.e_type = '수동'\n",
        "auto.e_type = '염복동'\n",
        "print(auto.e_type)"
      ],
      "execution_count": null,
      "outputs": [
        {
          "output_type": "error",
          "ename": "NameError",
          "evalue": "ignored",
          "traceback": [
            "\u001b[0;31m---------------------------------------------------------------------------\u001b[0m",
            "\u001b[0;31mNameError\u001b[0m                                 Traceback (most recent call last)",
            "\u001b[0;32m<ipython-input-12-dcfccee75931>\u001b[0m in \u001b[0;36m<module>\u001b[0;34m()\u001b[0m\n\u001b[0;32m----> 1\u001b[0;31m \u001b[0mauto\u001b[0m \u001b[0;34m=\u001b[0m \u001b[0mEngine\u001b[0m\u001b[0;34m(\u001b[0m\u001b[0;34m'자동'\u001b[0m\u001b[0;34m)\u001b[0m\u001b[0;34m\u001b[0m\u001b[0;34m\u001b[0m\u001b[0m\n\u001b[0m\u001b[1;32m      2\u001b[0m \u001b[0mprint\u001b[0m\u001b[0;34m(\u001b[0m\u001b[0mauto\u001b[0m\u001b[0;34m.\u001b[0m\u001b[0me_type\u001b[0m\u001b[0;34m)\u001b[0m\u001b[0;34m\u001b[0m\u001b[0;34m\u001b[0m\u001b[0m\n\u001b[1;32m      3\u001b[0m \u001b[0mauto\u001b[0m\u001b[0;34m.\u001b[0m\u001b[0me_type\u001b[0m \u001b[0;34m=\u001b[0m \u001b[0;34m'수동'\u001b[0m\u001b[0;34m\u001b[0m\u001b[0;34m\u001b[0m\u001b[0m\n\u001b[1;32m      4\u001b[0m \u001b[0mauto\u001b[0m\u001b[0;34m.\u001b[0m\u001b[0me_type\u001b[0m \u001b[0;34m=\u001b[0m \u001b[0;34m'염복동'\u001b[0m\u001b[0;34m\u001b[0m\u001b[0;34m\u001b[0m\u001b[0m\n\u001b[1;32m      5\u001b[0m \u001b[0mprint\u001b[0m\u001b[0;34m(\u001b[0m\u001b[0mauto\u001b[0m\u001b[0;34m.\u001b[0m\u001b[0me_type\u001b[0m\u001b[0;34m)\u001b[0m\u001b[0;34m\u001b[0m\u001b[0;34m\u001b[0m\u001b[0m\n",
            "\u001b[0;32m<ipython-input-9-eb9ee9a3bfce>\u001b[0m in \u001b[0;36m__init__\u001b[0;34m(self, e_type)\u001b[0m\n\u001b[1;32m      1\u001b[0m \u001b[0;32mclass\u001b[0m \u001b[0mEngine\u001b[0m\u001b[0;34m:\u001b[0m\u001b[0;34m\u001b[0m\u001b[0;34m\u001b[0m\u001b[0m\n\u001b[1;32m      2\u001b[0m     \u001b[0;32mdef\u001b[0m \u001b[0m__init__\u001b[0m\u001b[0;34m(\u001b[0m\u001b[0mself\u001b[0m\u001b[0;34m,\u001b[0m \u001b[0me_type\u001b[0m\u001b[0;34m)\u001b[0m\u001b[0;34m:\u001b[0m\u001b[0;34m\u001b[0m\u001b[0;34m\u001b[0m\u001b[0m\n\u001b[0;32m----> 3\u001b[0;31m         \u001b[0mself\u001b[0m\u001b[0;34m.\u001b[0m\u001b[0m__e_type\u001b[0m \u001b[0;34m=\u001b[0m \u001b[0m__e_type\u001b[0m \u001b[0;31m#프라이빗 처리\u001b[0m\u001b[0;34m\u001b[0m\u001b[0;34m\u001b[0m\u001b[0m\n\u001b[0m\u001b[1;32m      4\u001b[0m         \u001b[0mprint\u001b[0m\u001b[0;34m(\u001b[0m\u001b[0;34m\"{}엔진 탑재\"\u001b[0m\u001b[0;34m.\u001b[0m\u001b[0mformat\u001b[0m\u001b[0;34m(\u001b[0m\u001b[0mself\u001b[0m\u001b[0;34m.\u001b[0m\u001b[0m__e_type\u001b[0m\u001b[0;34m)\u001b[0m\u001b[0;34m)\u001b[0m\u001b[0;34m\u001b[0m\u001b[0;34m\u001b[0m\u001b[0m\n\u001b[1;32m      5\u001b[0m \u001b[0;31m#값을 가지고 올 때,\u001b[0m\u001b[0;34m\u001b[0m\u001b[0;34m\u001b[0m\u001b[0;34m\u001b[0m\u001b[0m\n",
            "\u001b[0;31mNameError\u001b[0m: name '_Engine__e_type' is not defined"
          ]
        }
      ]
    },
    {
      "cell_type": "markdown",
      "metadata": {
        "id": "m3ZTTdrQFLKv"
      },
      "source": [
        "#Tier Class 작성"
      ]
    },
    {
      "cell_type": "code",
      "metadata": {
        "id": "u71SdqzpFScf"
      },
      "source": [
        "class Tier:\n",
        "    def __init__(self, size):\n",
        "        self.__t_size = size\n",
        "        print(\"{}인치 타이어 탑재\".format(self.__t_size))\n",
        "\n",
        "    @property\n",
        "    def t_size(self):\n",
        "      return self.__t_size\n",
        "\n",
        "    @t_size.setter\n",
        "    def t_size(self, size):\n",
        "        if 14 <= size <= 18:\n",
        "          self.__t_size = size\n",
        "        else:\n",
        "          print(\"14~18인치 사이의 값만 지정\")"
      ],
      "execution_count": null,
      "outputs": []
    },
    {
      "cell_type": "code",
      "metadata": {
        "id": "10W2iN4iGKf1"
      },
      "source": [
        "# wheel = Tier(15) # 범위내\n",
        "# print(wheel.t_size)\n",
        "wheel.t_size = 17\n",
        "# wheel.t_size = 20\n",
        "# print(wheel.t_size)"
      ],
      "execution_count": null,
      "outputs": []
    },
    {
      "cell_type": "markdown",
      "metadata": {
        "id": "0baWhADnGweE"
      },
      "source": [
        "#Option Class 구성"
      ]
    },
    {
      "cell_type": "code",
      "metadata": {
        "id": "uUYm-_baqKM9"
      },
      "source": [
        "class OptionBronze:\n",
        "    def __init__(self):\n",
        "      self.airbag()#오버라이딩\n",
        "      self.aircon()\n",
        "\n",
        "    def airbag(self):\n",
        "      print(\"전좌석 에어백\")\n",
        "\n",
        "    def aircon(self):\n",
        "      print(\"수동 에어컨\")\n"
      ],
      "execution_count": null,
      "outputs": []
    },
    {
      "cell_type": "code",
      "metadata": {
        "id": "e9SIBdSTqwbH",
        "colab": {
          "base_uri": "https://localhost:8080/",
          "height": 52
        },
        "outputId": "1e445216-33ab-4334-b9fc-af293f7fe34f"
      },
      "source": [
        "class OptionSilver(OptionBronze): #옵션실버는 브론즈를 상속받았다.\n",
        "    def __init__(self):\n",
        "      self.airbag() #상속받은 상태라서 바로 작동(아래 정의되지 않아도 작동)\n",
        "      self.aircon()\n",
        "      self.heat_wire()\n",
        "\n",
        "    def aircon(self): #\"메소드 오버라이딩\" 수동->자동 / 자동에어컨으로 출력된다.\n",
        "      print(\"자동 에어컨\")\n",
        "\n",
        "    def heat_wire(self): # 새로 만들어졌으니 그대로 출력\n",
        "      print(\"핸들+앞좌석 열선시트\")\n",
        "\n",
        "\"\"\"\n",
        "메소드 오버라이딩\n",
        "상속박은 상위(부모) 클래스의 메소드를\n",
        "자식(하위)클래스에서 재정의 하여 사용하는 기술\"\"\""
      ],
      "execution_count": null,
      "outputs": [
        {
          "output_type": "execute_result",
          "data": {
            "application/vnd.google.colaboratory.intrinsic+json": {
              "type": "string"
            },
            "text/plain": [
              "'\\n메소드 오버라이딩\\n상속박은 상위(부모) 클래스의 메소드를\\n자식(하위)클래스에서 재정의 하여 사용하는 기술'"
            ]
          },
          "metadata": {},
          "execution_count": 26
        }
      ]
    },
    {
      "cell_type": "code",
      "metadata": {
        "id": "Xw_V6N-24tnp"
      },
      "source": [
        "class OptionGold(OptionSilver): #브론즈와 실버 둘다 상속받는다\n",
        "    def __init___(self):\n",
        "        self.airbag() #골드에 없지만 실버에서 상속\n",
        "        self.aircon() #골드에 없지만 실버에서 상속\n",
        "        self.heat_wire() \n",
        "        self.sunroof()\n",
        "\n",
        "    def heat_wire(self): #오버라이딩(앞 -> 전좌석)\n",
        "        print(\"핸들 + 전좌석 열선시트\")\n",
        "\n",
        "    def sunroof(self): #새로운 메소드 정상 출력\n",
        "        print(\"썬루프\")"
      ],
      "execution_count": null,
      "outputs": []
    },
    {
      "cell_type": "markdown",
      "metadata": {
        "id": "Eag9gbC4IyxB"
      },
      "source": [
        "#(최종) 자동차 클래스 구성"
      ]
    },
    {
      "cell_type": "code",
      "metadata": {
        "id": "kyUyODZx6LEk"
      },
      "source": [
        "#자동차 클래스 구성\n",
        "\n",
        "class Car(Engine, Tier): # 다중 상속을 받음 일반적으로 오류 가능성때문에 잘 쓰지 않는다.\n",
        "    __rel_list = [] #출고리스트 / __프라이빗 의미\n",
        "    op_type = {\"브론즈\": OptionBronze, \"실버\" : OptionSilver, \"골드\" : OptionGold} #변수명 아님 클래스명\n",
        "\n",
        "    def __init__(self, e_type, op_type, tier_size=15): #엔진타입/ 옵션 / 타이어는 기본 15로 받음\n",
        "        print(\"Car Released\".center(20, '='))\n",
        "        Engine.__init__(self, e_type) #위에서 상속받은 클래스명 . __init__() : 다중 상속받은 클래스에서 상위클래스의 생성자를 호출하는 코드/ 단일 상속에는 super를 사용한다\n",
        "        Tier.__init__(self, tier_size)\n",
        "        print(\"=Option List\".ljust(20, '='))\n",
        "        self.option = self.op_type[op_type]() # self.op_type[\"브론즈\"] = OptionBronze\n",
        "        print(\"Thank you!=\\n\".rjunt(20, '='))\n",
        "        self.__rel_list.append(self)\n",
        "   \n",
        "    def release_report(self):\n",
        "        print(\"현재까지{}대의 차량이 출고 됨\".fomat(len(self.__rel_list)))\n",
        "\n",
        "        \"\"\"\n",
        "        self.option <- 인스턴스 변수 : 모든 인스턴스 별로 각각 별도의 데이터를 가짐, 가급적 인스턴스 변수로 관리 추천\n",
        "        self.__rel_list <- 클래스 변수 \n",
        "        \"\"\""
      ],
      "execution_count": null,
      "outputs": []
    },
    {
      "cell_type": "code",
      "metadata": {
        "id": "SCFqU4NU8Jpm"
      },
      "source": [
        "jima = Car(\"수동\",\"브론즈\")\n",
        "chamkke = Car(\"자동\", \"골드\", 18)\n",
        "print(jima.e_type)\n",
        "print(jima.t_size)\n",
        "jima.t_size = 20\n",
        "print(jima.t_size)\n",
        "jima.release_report()"
      ],
      "execution_count": null,
      "outputs": []
    },
    {
      "cell_type": "code",
      "metadata": {
        "id": "av4AG7GE8-xo"
      },
      "source": [
        "#16분 부터 "
      ],
      "execution_count": null,
      "outputs": []
    }
  ]
}
