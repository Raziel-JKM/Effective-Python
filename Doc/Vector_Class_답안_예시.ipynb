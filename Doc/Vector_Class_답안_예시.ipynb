{
  "nbformat": 4,
  "nbformat_minor": 5,
  "metadata": {
    "kernelspec": {
      "display_name": "Python 3 (ipykernel)",
      "language": "python",
      "name": "python3"
    },
    "language_info": {
      "codemirror_mode": {
        "name": "ipython",
        "version": 3
      },
      "file_extension": ".py",
      "mimetype": "text/x-python",
      "name": "python",
      "nbconvert_exporter": "python",
      "pygments_lexer": "ipython3",
      "version": "3.7.11"
    },
    "colab": {
      "name": "Vector Class 답안 예시.ipynb",
      "provenance": [],
      "include_colab_link": true
    }
  },
  "cells": [
    {
      "cell_type": "markdown",
      "metadata": {
        "id": "view-in-github",
        "colab_type": "text"
      },
      "source": [
        "<a href=\"https://colab.research.google.com/github/Raziel-JKM/Effective-Python/blob/main/Doc/Vector_Class_%EB%8B%B5%EC%95%88_%EC%98%88%EC%8B%9C.ipynb\" target=\"_parent\"><img src=\"https://colab.research.google.com/assets/colab-badge.svg\" alt=\"Open In Colab\"/></a>"
      ]
    },
    {
      "cell_type": "code",
      "metadata": {
        "id": "b45576b7"
      },
      "source": [
        "from copy import deepcopy"
      ],
      "id": "b45576b7",
      "execution_count": null,
      "outputs": []
    },
    {
      "cell_type": "code",
      "metadata": {
        "id": "67e60fa3"
      },
      "source": [
        "class Vector:\n",
        "    # 생성자의 입력값은 벡터 리스트\n",
        "    def __init__(self, vec_list, dtype):\n",
        "        self.dtype = dtype\n",
        "        self.vector = []\n",
        "        for i, item in enumerate(vec_list):\n",
        "            if type(item) != dtype:\n",
        "                print(f\"The item {i} isn't same data type...\")\n",
        "                raise ValueError\n",
        "      \n",
        "            else:\n",
        "                self.vector.append(item)\n",
        "    \n",
        "    def push(self, item):\n",
        "        if self.dtype != type(item):\n",
        "            print(f\"Input item isn't same data type...\")\n",
        "        else:\n",
        "            self.vector.append(item)\n",
        "    \n",
        "    def pop(self):\n",
        "        return self.vector.pop(-1)\n",
        "    \n",
        "    def check_dimension(self, other):\n",
        "        if len(self.vector) != len(other.vector):\n",
        "            print(f\"The dimension of two vectors are not same\")\n",
        "            return False\n",
        "        else:\n",
        "            return True\n",
        "    \n",
        "    # 연산자 오버로딩\n",
        "    def __add__(self, other):\n",
        "        new_vector = []\n",
        "        if self.check_dimension(other):\n",
        "            for elem1, elem2 in zip(self.vector, other.vector):\n",
        "                new_elem = elem1 + elem2\n",
        "                new_vector.append(new_elem)\n",
        "        else:\n",
        "            raise ValueError\n",
        "        new_vec = Vector(new_vector, self.dtype)\n",
        "        return new_vec\n",
        "    \n",
        "    def __mul__(self, other):\n",
        "        dot_product = 0\n",
        "        if self.check_dimension(other):\n",
        "            for elem1, elem2 in zip(self.vector, other.vector):\n",
        "                dot_product += elem1 * elem2\n",
        "            return dot_product\n",
        "        else:\n",
        "            raise ValueError\n",
        "            \n",
        "    def __call__(self):\n",
        "        return self.vector\n",
        "    \n",
        "    def __str__(self):\n",
        "        msg = f\"{self.vector}\"\n",
        "        return msg"
      ],
      "id": "67e60fa3",
      "execution_count": null,
      "outputs": []
    },
    {
      "cell_type": "code",
      "metadata": {
        "id": "c4432381"
      },
      "source": [
        "vec1 = Vector([1, 2, 3], int)\n",
        "vec2 = Vector([-1, -2, -3], int)"
      ],
      "id": "c4432381",
      "execution_count": null,
      "outputs": []
    },
    {
      "cell_type": "code",
      "metadata": {
        "scrolled": true,
        "id": "1d4dcf8e",
        "outputId": "8916f148-dff7-4a60-e350-d73658a5449c"
      },
      "source": [
        "vec3 = vec1 + vec2\n",
        "print(vec3)"
      ],
      "id": "1d4dcf8e",
      "execution_count": null,
      "outputs": [
        {
          "name": "stdout",
          "output_type": "stream",
          "text": [
            "[0, 0, 0]\n"
          ]
        }
      ]
    },
    {
      "cell_type": "code",
      "metadata": {
        "id": "ecc79910"
      },
      "source": [
        "vec1.push(4)\n",
        "vec2.push(-4)"
      ],
      "id": "ecc79910",
      "execution_count": null,
      "outputs": []
    },
    {
      "cell_type": "code",
      "metadata": {
        "id": "f84c50fa",
        "outputId": "5cd3b27c-2e64-4b6b-f3be-0f533416239d"
      },
      "source": [
        "print(vec1)\n",
        "print(vec2)\n",
        "print(vec3)"
      ],
      "id": "f84c50fa",
      "execution_count": null,
      "outputs": [
        {
          "name": "stdout",
          "output_type": "stream",
          "text": [
            "[1, 2, 3, 4]\n",
            "[-1, -2, -3, -4]\n",
            "[0, 0, 0]\n"
          ]
        }
      ]
    },
    {
      "cell_type": "code",
      "metadata": {
        "id": "82f1c974",
        "outputId": "baaf3ab7-821e-475c-fd8b-8bbdb0d219f6"
      },
      "source": [
        "output = vec1 * vec2\n",
        "print(output)"
      ],
      "id": "82f1c974",
      "execution_count": null,
      "outputs": [
        {
          "name": "stdout",
          "output_type": "stream",
          "text": [
            "-30\n"
          ]
        }
      ]
    },
    {
      "cell_type": "code",
      "metadata": {
        "id": "786fc19a"
      },
      "source": [
        ""
      ],
      "id": "786fc19a",
      "execution_count": null,
      "outputs": []
    }
  ]
}