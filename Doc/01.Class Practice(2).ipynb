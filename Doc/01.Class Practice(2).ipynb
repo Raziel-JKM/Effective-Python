{
  "nbformat": 4,
  "nbformat_minor": 5,
  "metadata": {
    "kernelspec": {
      "display_name": "Python 3",
      "language": "python",
      "name": "python3"
    },
    "language_info": {
      "codemirror_mode": {
        "name": "ipython",
        "version": 3
      },
      "file_extension": ".py",
      "mimetype": "text/x-python",
      "name": "python",
      "nbconvert_exporter": "python",
      "pygments_lexer": "ipython3",
      "version": "3.6.13"
    },
    "colab": {
      "name": "Class 상속 실습.ipynb",
      "provenance": [],
      "include_colab_link": true
    }
  },
  "cells": [
    {
      "cell_type": "markdown",
      "metadata": {
        "id": "view-in-github",
        "colab_type": "text"
      },
      "source": [
        "<a href=\"https://colab.research.google.com/github/Raziel-JKM/Effective-Python/blob/main/01.Class%20Practice(2).ipynb\" target=\"_parent\"><img src=\"https://colab.research.google.com/assets/colab-badge.svg\" alt=\"Open In Colab\"/></a>"
      ]
    },
    {
      "cell_type": "markdown",
      "metadata": {
        "id": "3aad4baf"
      },
      "source": [
        "# 클래스 핵심 개념  \n",
        "\n",
        "1. 멤버변수\n",
        "2. 생성자\n",
        "3. 메소드\n",
        "4. 멤버 접근 연산자 . \n",
        "5. 인스턴스 \n",
        "6. 멤버변수의 속성 (private, public)"
      ],
      "id": "3aad4baf"
    },
    {
      "cell_type": "code",
      "metadata": {
        "id": "961ee274"
      },
      "source": [
        "class Student:\n",
        "    \n",
        "    def __init__(self, ID, Name):\n",
        "        self.__id = ID\n",
        "        self.__name = Name\n",
        "    \n",
        "    def set_id(self, ID):\n",
        "        self.__id = ID\n",
        "        \n",
        "    def set_name(self, Name):\n",
        "        self.__name = Name\n",
        "        \n",
        "    def get_name(self):\n",
        "        return self.__name\n",
        "    \n",
        "    def get_id(self):\n",
        "        return self.__id\n",
        "    \n",
        "    # 매직 메소드.\n",
        "    def __str__(self):\n",
        "        msg = f\"id:{self.__id}, name:{self.__name}\"\n",
        "        return msg\n",
        "    \n",
        "    def __eq__(self, other):\n",
        "        if self.__id == other.__id and self.__name == other.__name:\n",
        "            return True\n",
        "        else:\n",
        "            return False\n",
        "    \n",
        "    "
      ],
      "id": "961ee274",
      "execution_count": null,
      "outputs": []
    },
    {
      "cell_type": "code",
      "metadata": {
        "scrolled": true,
        "id": "5485351d",
        "outputId": "8e9a0415-a21e-4c17-81cc-6e842baba0a0"
      },
      "source": [
        "student = Student(1111, \"윤준영\")\n",
        "student2 = Student(1112, \"서정욱\")\n",
        "student3 = Student(1111, \"윤준영\")\n",
        "\n",
        "print(student.get_name())\n",
        "print(student2.get_name())\n",
        "\n",
        "print(student == student2)\n",
        "print(student == student3)"
      ],
      "id": "5485351d",
      "execution_count": null,
      "outputs": [
        {
          "name": "stdout",
          "output_type": "stream",
          "text": [
            "윤준영\n",
            "서정욱\n",
            "False\n",
            "True\n"
          ]
        }
      ]
    },
    {
      "cell_type": "code",
      "metadata": {
        "scrolled": false,
        "id": "a4823020",
        "outputId": "36a7c05b-f836-4a1f-bf7e-fe3b43276caf"
      },
      "source": [
        "print(student)"
      ],
      "id": "a4823020",
      "execution_count": null,
      "outputs": [
        {
          "name": "stdout",
          "output_type": "stream",
          "text": [
            "<__main__.Student object at 0x7f2b10939c88>\n"
          ]
        }
      ]
    },
    {
      "cell_type": "code",
      "metadata": {
        "id": "7063810d",
        "outputId": "f08a7499-d209-4a41-9753-78de558d4dd0"
      },
      "source": [
        "dir(object)"
      ],
      "id": "7063810d",
      "execution_count": null,
      "outputs": [
        {
          "data": {
            "text/plain": [
              "['__class__',\n",
              " '__delattr__',\n",
              " '__dir__',\n",
              " '__doc__',\n",
              " '__eq__',\n",
              " '__format__',\n",
              " '__ge__',\n",
              " '__getattribute__',\n",
              " '__gt__',\n",
              " '__hash__',\n",
              " '__init__',\n",
              " '__init_subclass__',\n",
              " '__le__',\n",
              " '__lt__',\n",
              " '__ne__',\n",
              " '__new__',\n",
              " '__reduce__',\n",
              " '__reduce_ex__',\n",
              " '__repr__',\n",
              " '__setattr__',\n",
              " '__sizeof__',\n",
              " '__str__',\n",
              " '__subclasshook__']"
            ]
          },
          "execution_count": 20,
          "metadata": {},
          "output_type": "execute_result"
        }
      ]
    },
    {
      "cell_type": "markdown",
      "metadata": {
        "id": "0b142f80"
      },
      "source": [
        "# 상속"
      ],
      "id": "0b142f80"
    },
    {
      "cell_type": "code",
      "metadata": {
        "id": "9e838558"
      },
      "source": [
        "# 상속을 하는 이유 : 코드를 재활용하고 싶어서\n",
        "# 상속 방법 : 클래스의 인자에 부모 클래스를 넣는다. \n",
        "\n",
        "class GraduatedStudent(Student):\n",
        "    \n",
        "    # super().__init__ 하고 난 뒤에는\n",
        "    \n",
        "    #__id = 1234\n",
        "    #__name = \"고승일\"\n",
        "    \n",
        "    def __init__(self, ID, Name, Year):\n",
        "        self.__graduatedYear = Year\n",
        "        # Student().\n",
        "        super().__init__(ID, Name)\n",
        "    \n",
        "    # 메소드 오버라이딩 \n",
        "    # method overriding :\n",
        "    # 부모 클래스에 있는 메소드를 자식 클래스에서 재정의\n",
        "    def __str__(self):\n",
        "        msg = super().__str__() + f\", 졸업년도 : {self.__graduatedYear}\"\n",
        "        return msg"
      ],
      "id": "9e838558",
      "execution_count": null,
      "outputs": []
    },
    {
      "cell_type": "code",
      "metadata": {
        "id": "bdcd009a",
        "outputId": "116d8a9e-0f48-4cb1-cabd-db421c479abe"
      },
      "source": [
        "gradStu = GraduatedStudent(1234, \"고승일\", \"2200\")\n",
        "gradStu.get_id()\n",
        "\n",
        "print(gradStu)"
      ],
      "id": "bdcd009a",
      "execution_count": null,
      "outputs": [
        {
          "name": "stdout",
          "output_type": "stream",
          "text": [
            "id:1234, name:고승일, 졸업년도 : 2200\n"
          ]
        }
      ]
    },
    {
      "cell_type": "code",
      "metadata": {
        "id": "c453a66b"
      },
      "source": [
        "# x, y 좌표를 저장하는 클래스를 만드세요\n",
        "# x, y 값을 setter를 통해 할당하고, getter를 통해 가져옵니다.\n",
        "# print를 통해 \n",
        "# setter의 경우 인스턴스의 멤버변수를 변경하고 싶을 때 사용합니다.\n",
        "class Point2D:\n",
        "    \n",
        "    def __init__(self, x, y):\n",
        "        self.__x = x\n",
        "        self.__y = y\n",
        "    \n",
        "    def set_coord(self, x, y):\n",
        "        self.__x = x\n",
        "        self.__y = y\n",
        "    \n",
        "    def get_x(self):\n",
        "        return self.__x\n",
        "    \n",
        "    def get_y(self):\n",
        "        return self.__y\n",
        "    \n",
        "    def get_coord(self):\n",
        "        return (x, y)\n",
        "    \n",
        "    def __str__(self):\n",
        "        msg = f\"({self.__x}, {self.__y})\"\n",
        "        return msg\n",
        "    \n",
        "    # 연산자 오버로딩\n",
        "    def __add__(self, other):\n",
        "        # 같은 클래스이기 때문에 private임에도 접근 가능\n",
        "        self.__x = self.__x + other.__x\n",
        "        self.__y = self.__y + other.__y\n",
        "        return self"
      ],
      "id": "c453a66b",
      "execution_count": null,
      "outputs": []
    },
    {
      "cell_type": "code",
      "metadata": {
        "id": "6b00c251",
        "outputId": "72cab9f1-4ddd-4fce-de59-253009ae3536"
      },
      "source": [
        "pt = Point2D(1, -1)\n",
        "pt2 = Point2D(-1, 1)\n",
        "print(pt)\n",
        "\n",
        "pt3 = pt + pt2\n",
        "print(pt)\n"
      ],
      "id": "6b00c251",
      "execution_count": null,
      "outputs": [
        {
          "name": "stdout",
          "output_type": "stream",
          "text": [
            "(1, -1)\n",
            "(0, 0)\n"
          ]
        }
      ]
    },
    {
      "cell_type": "markdown",
      "metadata": {
        "id": "f24661d0"
      },
      "source": [
        "Point2D 클래스를 상속받아서  \n",
        "Point3D 클래스를 만들어보세요  \n",
        "마찬가지로 setter와 getter가 존재하고,  \n",
        "setter와 getter도 오버라이딩 해야합니다.   \n",
        "__str__ 메소드를 오버라이딩 합니다.   "
      ],
      "id": "f24661d0"
    },
    {
      "cell_type": "code",
      "metadata": {
        "id": "1ee5e80c"
      },
      "source": [
        "class Point3D(Point2D):\n",
        "    # 힌트 메소드 오버라이딩은 자식 클래스에서 \n",
        "    # 부모 메소드를 재정의 \n",
        "    def __init__(self, x, y, z):\n",
        "        super().__init__(x, y)\n",
        "        self.__x = super().get_x()\n",
        "        self.__y = super().get_y()\n",
        "        self.__z = z\n",
        "    \n",
        "    def get_z(self):\n",
        "        return self.__z\n",
        "\n",
        "    def set_coord(self, x, y, z):\n",
        "        self.__x = x\n",
        "        self.__y = y\n",
        "        self.__z = z\n",
        "        \n",
        "    def get_coord(self):\n",
        "        return (self.__x, self.__y, self.__z)\n",
        "    \n",
        "    def __str__(self):\n",
        "        msg = f\"({self.__x}, {self.__y}, {self.__z})\"\n",
        "        return msg\n",
        "    \n",
        "    def __add__(self, other):\n",
        "        self.__x = self.get_x() + other.get_x()\n",
        "        self.__y = self.get_y() + other.get_y()\n",
        "        self.__z = self.get_z() + other.get_z()\n",
        "        return self"
      ],
      "id": "1ee5e80c",
      "execution_count": null,
      "outputs": []
    },
    {
      "cell_type": "code",
      "metadata": {
        "id": "73e256f3",
        "outputId": "48c2f122-87a4-4df6-bf80-54a355f2f875"
      },
      "source": [
        "pt = Point3D(1, 1, 1)\n",
        "print(pt)\n",
        "pt2 = Point3D(-1, -1, -1)\n",
        "pt3 = pt + pt2\n",
        "print(pt3)"
      ],
      "id": "73e256f3",
      "execution_count": null,
      "outputs": [
        {
          "name": "stdout",
          "output_type": "stream",
          "text": [
            "(1, 1, 1)\n",
            "(0, 0, 0)\n"
          ]
        }
      ]
    },
    {
      "cell_type": "code",
      "metadata": {
        "id": "9235bb3a"
      },
      "source": [
        ""
      ],
      "id": "9235bb3a",
      "execution_count": null,
      "outputs": []
    }
  ]
}
