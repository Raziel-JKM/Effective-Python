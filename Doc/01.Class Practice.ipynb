{
  "nbformat": 4,
  "nbformat_minor": 5,
  "metadata": {
    "kernelspec": {
      "display_name": "Python 3",
      "language": "python",
      "name": "python3"
    },
    "language_info": {
      "codemirror_mode": {
        "name": "ipython",
        "version": 3
      },
      "file_extension": ".py",
      "mimetype": "text/x-python",
      "name": "python",
      "nbconvert_exporter": "python",
      "pygments_lexer": "ipython3",
      "version": "3.6.13"
    },
    "colab": {
      "name": "Class 실습.ipynb",
      "provenance": []
    }
  },
  "cells": [
    {
      "cell_type": "markdown",
      "metadata": {
        "id": "4c3a547f"
      },
      "source": [
        "# Class  \n",
        "\n",
        "클래스란? : 자료형을 쓸 때, 재사용성을 위해 사용한다. 하나의 자료형 구조를 가지고 새로운 것을 덧붙여서 사용하기 위해 쓴다.  \n",
        "클래스는 틀이다!!! 왜 사용할까? 반복을 줄이기 위해서, 더 파생시켜서 다른 기능이나 특성을 추가하고 싶을 때 사용한다. \n",
        "\n"
      ],
      "id": "4c3a547f"
    },
    {
      "cell_type": "code",
      "metadata": {
        "id": "e660d70e"
      },
      "source": [
        "class Student:\n",
        "\n",
        "    id = 20210909\n",
        "    name = \"김국진\""
      ],
      "id": "e660d70e",
      "execution_count": null,
      "outputs": []
    },
    {
      "cell_type": "code",
      "metadata": {
        "scrolled": true,
        "id": "f32fe05c",
        "outputId": "45788906-5304-451e-b628-9fa750df7ee0"
      },
      "source": [
        "student = Student()\n",
        "\n",
        "print(student.id)\n",
        "print(student.name)\n"
      ],
      "id": "f32fe05c",
      "execution_count": null,
      "outputs": [
        {
          "name": "stdout",
          "output_type": "stream",
          "text": [
            "20210909\n",
            "김국진\n"
          ]
        }
      ]
    },
    {
      "cell_type": "code",
      "metadata": {
        "id": "f1846c34"
      },
      "source": [
        "a = 1"
      ],
      "id": "f1846c34",
      "execution_count": null,
      "outputs": []
    },
    {
      "cell_type": "code",
      "metadata": {
        "id": "ba4d3f64"
      },
      "source": [
        "class Student:\n",
        "    # 멤버변수 : 클래스의 내부변수\n",
        "    _id = None\n",
        "    name = None\n",
        "    \n",
        "    # 생성자\n",
        "    # 생성자는 객체가 생성될 때 최초로 호출되는 함수이다. 멤버변수를 초기화할 때 주로 사용합니다. \n",
        "    def __init__(self, _id, name):\n",
        "        self._id = _id\n",
        "        self.name = name\n",
        "    \n",
        "    "
      ],
      "id": "ba4d3f64",
      "execution_count": null,
      "outputs": []
    },
    {
      "cell_type": "code",
      "metadata": {
        "id": "9c7e122c",
        "outputId": "e1f3f274-eccb-43b8-a288-2c3c49a41142"
      },
      "source": [
        "stu = Student()"
      ],
      "id": "9c7e122c",
      "execution_count": null,
      "outputs": [
        {
          "ename": "TypeError",
          "evalue": "__init__() missing 2 required positional arguments: '_id' and 'name'",
          "output_type": "error",
          "traceback": [
            "\u001b[0;31m---------------------------------------------------------------------------\u001b[0m",
            "\u001b[0;31mTypeError\u001b[0m                                 Traceback (most recent call last)",
            "\u001b[0;32m<ipython-input-12-fc26ea89e79a>\u001b[0m in \u001b[0;36m<module>\u001b[0;34m\u001b[0m\n\u001b[0;32m----> 1\u001b[0;31m \u001b[0mstu\u001b[0m \u001b[0;34m=\u001b[0m \u001b[0mStudent\u001b[0m\u001b[0;34m(\u001b[0m\u001b[0;34m)\u001b[0m\u001b[0;34m\u001b[0m\u001b[0;34m\u001b[0m\u001b[0m\n\u001b[0m",
            "\u001b[0;31mTypeError\u001b[0m: __init__() missing 2 required positional arguments: '_id' and 'name'"
          ]
        }
      ]
    },
    {
      "cell_type": "code",
      "metadata": {
        "scrolled": true,
        "id": "8d8654da",
        "outputId": "8d79b417-5ada-4206-c375-64af036f34b6"
      },
      "source": [
        "stu = Student(20210909, \"김국진\")\n",
        "stu2 = Student(20210910, \"김지현\")\n",
        "\n",
        "# stu를 Student 클래스의 인스턴스라고 한다. \n",
        "# Class를 통해서 생성되는 오브젝트를 인스턴스라고 한다. \n",
        "# 붕어빵틀 = Stduent Class\n",
        "# 붕어빵 = stu, stu2\n",
        "\n",
        "a = 3\n",
        "\n",
        "print(isinstance(stu, Student))\n",
        "print(type(a))\n",
        "print(isinstance(a, Student))\n",
        "\n",
        "\n",
        "# . 멤버접근연산자. 이를 통해서 클래스 내부의 변수나 함수에 접근할 수 있습니다. \n",
        "print(stu.id)\n",
        "print(stu.name)"
      ],
      "id": "8d8654da",
      "execution_count": null,
      "outputs": [
        {
          "name": "stdout",
          "output_type": "stream",
          "text": [
            "True\n",
            "<class 'int'>\n",
            "False\n",
            "20210909\n",
            "김국진\n"
          ]
        }
      ]
    },
    {
      "cell_type": "code",
      "metadata": {
        "id": "1668c482",
        "outputId": "4028a0b8-d110-40a6-e65d-ddff5c75d13d"
      },
      "source": [
        "# id는 메모리 주소를 알려주는 파이썬 내부 함수이다. \n",
        "\n",
        "print(id(Student))\n",
        "print(id(a))"
      ],
      "id": "1668c482",
      "execution_count": null,
      "outputs": [
        {
          "name": "stdout",
          "output_type": "stream",
          "text": [
            "94447237297448\n",
            "94447209425792\n"
          ]
        }
      ]
    },
    {
      "cell_type": "code",
      "metadata": {
        "id": "132f728b"
      },
      "source": [
        "class Student:\n",
        "    # 멤버변수 : 클래스의 내부변수\n",
        "    \n",
        "    # 멤버변수의 속성에는 public, protected, private\n",
        "    \n",
        "    _id = None # protected\n",
        "    name = None # public\n",
        "    __age = None # private\n",
        "    __password = None\n",
        "    \n",
        "    # 생성자\n",
        "    # 생성자는 객체가 생성될 때 최초로 호출되는 함수이다. 멤버변수를 초기화할 때 주로 사용합니다. \n",
        "    def __init__(self, _id, name, age):\n",
        "        self._id = _id\n",
        "        self.name = name\n",
        "        self.__age = age\n",
        "        \n",
        "    # 메소드 : 클래스 내부의 함수\n",
        "    # id 멤버변수를 변경한다. \n",
        "    def set_id(self, _id):\n",
        "        self._id = _id\n",
        "    \n",
        "    # age 멤버변수를 반환한다. \n",
        "    def get_age(self):\n",
        "        return self.__age\n",
        "      \n",
        "        "
      ],
      "id": "132f728b",
      "execution_count": null,
      "outputs": []
    },
    {
      "cell_type": "code",
      "metadata": {
        "scrolled": true,
        "id": "85df5c23",
        "outputId": "32bd3c57-21dc-4f8c-9bef-91b46528292a"
      },
      "source": [
        "stu = Student(20210909, \"김국진\", 900)\n",
        "print(stu._id)\n",
        "stu.set_id(1234)\n",
        "print(stu._id)"
      ],
      "id": "85df5c23",
      "execution_count": null,
      "outputs": [
        {
          "name": "stdout",
          "output_type": "stream",
          "text": [
            "20210909\n",
            "1234\n"
          ]
        }
      ]
    },
    {
      "cell_type": "code",
      "metadata": {
        "id": "700274ba",
        "outputId": "afe62488-c234-4eb8-913b-297c86b88763"
      },
      "source": [
        "print(stu.get_age())"
      ],
      "id": "700274ba",
      "execution_count": null,
      "outputs": [
        {
          "name": "stdout",
          "output_type": "stream",
          "text": [
            "900\n"
          ]
        }
      ]
    },
    {
      "cell_type": "markdown",
      "metadata": {
        "id": "24bf0200"
      },
      "source": [
        "클래스의 멤버변수, 생성자, 메소드, 멤버접근 연산자, 인스턴스\n",
        "\n",
        "위 개념들이 뭔지 다 알고 있어야 좋은 프로그램을 개발할 수 있습니다!!"
      ],
      "id": "24bf0200"
    },
    {
      "cell_type": "code",
      "metadata": {
        "id": "0820a4d0"
      },
      "source": [
        "class DoorLock:\n",
        "    \n",
        "    def __init__(self, name, pw):\n",
        "        self.name = name\n",
        "        self.pw = pw\n",
        "        \n",
        "    def open_door(self, name, pw):\n",
        "        # 구현\n",
        "        # 이 함수는 name과 pw를 멤버변수와 비교합니다. \n",
        "        # 조건문을 이용해서 함수를 호출하면 문이 열렸는지\n",
        "        # 안열렸는지를 True, False로 반환하는 함수를 작성해보세요!!\n",
        "        \n",
        "        opened = None\n",
        "        if self.name == name and self.pw == pw:\n",
        "            opened = True\n",
        "        else:\n",
        "            opened = False\n",
        "        \n",
        "        return opened\n",
        "        \n",
        "        \n",
        "        #return self._name == name and self._pw == pw\n",
        "    "
      ],
      "id": "0820a4d0",
      "execution_count": null,
      "outputs": []
    },
    {
      "cell_type": "code",
      "metadata": {
        "id": "06e24a68",
        "outputId": "b62e8d43-b635-4f5a-ef15-645436e22554"
      },
      "source": [
        "door = DoorLock(\"김국진\", 1234)\n",
        "print(door.open_door(\"윤준영\", 1111))\n",
        "print(door.open_door(\"김국진\", 1234))\n",
        "\n"
      ],
      "id": "06e24a68",
      "execution_count": null,
      "outputs": [
        {
          "name": "stdout",
          "output_type": "stream",
          "text": [
            "False\n",
            "True\n"
          ]
        }
      ]
    },
    {
      "cell_type": "code",
      "metadata": {
        "id": "3a90994f"
      },
      "source": [
        "True"
      ],
      "id": "3a90994f",
      "execution_count": null,
      "outputs": []
    }
  ]
}
